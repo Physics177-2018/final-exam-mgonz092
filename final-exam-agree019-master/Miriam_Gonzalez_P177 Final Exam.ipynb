{
 "cells": [
  {
   "cell_type": "markdown",
   "metadata": {},
   "source": [
    "# P177: Final Exam\n",
    "Spring 2018\n",
    "\n",
    "**Due:** please complete by **Friday, June 15th**.  \n",
    "Pro-tip: do this way before then. \n",
    "\n",
    "**iEval:** please complete the [iEval](https://ieval.ucr.edu/) before **Friday, June 8th**. \n",
    "\n",
    "\n",
    "Miriam Gonzalez\n",
    "\n",
    "## 1. Kaggle Tutorial \n",
    "\n",
    "1. Create a Kaggle account and navigate to the \"[Titanic: Machine Learning from Disaster](https://www.kaggle.com/c/titanic)\" competition. Read a bit about the challenge.\n",
    "\n",
    "2. Navigate to Helge Bjorland's \"[Interactive Data Science Tutorial](https://www.kaggle.com/helgejo/an-interactive-data-science-tutorial)\" that uses the Titanic dataset. (**Note:** in class we used [Rochelle Silva's tutorial](https://www.kaggle.com/rochellesilva/simple-tutorial-for-beginners), the Bjorland tutorial is probably a little more insightful.) \n",
    "\n",
    "3. **Fork** the tutorial and go through it. Run everything. You are not required to complete the \"exercises\" (cells where you have to type code), but you get extra credit if you do.\n",
    "\n",
    "4. Download the completed tutorial as a Jupyter notebook (`ipynb` file). Upload that notebook to your GitHub repository for this final."
   ]
  },
  {
   "cell_type": "markdown",
   "metadata": {},
   "source": [
    "## 2. Answer the Following Questions\n",
    "\n",
    "These are real questions where I'd like you to write a few sentences about your code. The goal is to show that you've thought carefully about your code and can say something insightful about your work. "
   ]
  },
  {
   "cell_type": "markdown",
   "metadata": {},
   "source": [
    "### a) What was your favorite homework problem? What did you learn from doing it?\n",
    "\n",
    "*[Fill in your answer]*\n",
    "Doing the runge kutta and leap frog algorithm, even though I didn't know what I was doing I did learn more about them, since they would be help full in using it for N-body simulation. The leapfrog algorithm is still a bit iffy to grasp."
   ]
  },
  {
   "cell_type": "markdown",
   "metadata": {},
   "source": [
    "### b) What was the most difficult problem? What was confusing or frustrating about it?\n",
    "\n",
    "*[Fill in your answer]*\n",
    "The last few homework problems that involved the markov chain and monte carlo algorithms. They were a bit difficult because I had no idea what I was doing, nor did I know how they work. When I looked it up on google, most of the pages did not offer a broad overview of what it does, or it's probably because I can not understand it yet."
   ]
  },
  {
   "cell_type": "markdown",
   "metadata": {},
   "source": [
    "### c) In your own words, give an example of a problem where you would use Markov Chain Monte Carlo (MCMC). Briefly describe how MCMC works.\n",
    "\n",
    "*[Fill in your answer]*\n",
    "MCMC can be used in cryptography, in which there was a paper that have symbols(not recognized as letters or numbers, this is from Stanford’s Statistics Department). MCMC draws samples from a probability distribution, in which the next point depends on current position of that point. Almost, like a board game? You roll the dice you move up a few or one points, but you don't look behind nor do you go back."
   ]
  },
  {
   "cell_type": "markdown",
   "metadata": {},
   "source": [
    "### d) ELI5: Pick one technical idea from the course and explain it to a five-year-old.\n",
    "\n",
    "*[Fill in your answer. Possible topics include the Ising model, Euler's method, Riemann sum integration, Monte Carlo, etc. Don't write an essay. ]*\n",
    "\n"
   ]
  },
  {
   "cell_type": "markdown",
   "metadata": {},
   "source": [
    "## 3. Evaluation (not for a grade)\n",
    "\n",
    "I hope you filled out the `iEval` before Jun 8th. In this cell, please feel free to share constructive criticism about the course. What did you like? What did you not like? Are there topics that you really wish we covered or didn't cover? What should I know to be a better lecturer?\n",
    "\n",
    "*[Fill in your answer]*\n",
    "\n",
    "Riemann sum integrator\n",
    "\n",
    "lets say you have some curve and you want to find the area below the curve. We can approximate the curve to have small regtangles as your final position minus your inital positio divided by the number of retangles you wish to have, this is for the width of one rectangle. this is only for one. but you dont want one retangle you want all of them that correspond to the curve. for this you need to keep on adding every rectangle within the curve. the way you want to do this is to a loop, what is loop, its almost like taking a step do some stuff then take another step and repeat. with this loop for n loops it has to be within the range of the number of retangles. what you do inside is calculate the area, initally lets just say we start off a zero we move up by 1 retangle, that is the (inital postion plus the width of rectangle multiplied by what setp you are one) times the width of the first retangle plus the area, then you add plus another setp then initiate the next step."
   ]
  },
  {
   "cell_type": "markdown",
   "metadata": {},
   "source": [
    "## Closing thoughts\n",
    "\n",
    "It's been a real joy to be part of this class---I was really impressed by each of your midterm presentations and have had a lot of fun with our discussions. In whatever is ahead of you beyond this class, I look forward to hearing how you each succeed.\n",
    "\n",
    "I encourage you to make your GitHub repositories public (you may need to duplicate them) so that you can show them off to the world."
   ]
  }
 ],
 "metadata": {
  "kernelspec": {
   "display_name": "Python 3",
   "language": "python",
   "name": "python3"
  },
  "language_info": {
   "codemirror_mode": {
    "name": "ipython",
    "version": 3
   },
   "file_extension": ".py",
   "mimetype": "text/x-python",
   "name": "python",
   "nbconvert_exporter": "python",
   "pygments_lexer": "ipython3",
   "version": "3.6.3"
  }
 },
 "nbformat": 4,
 "nbformat_minor": 2
}
